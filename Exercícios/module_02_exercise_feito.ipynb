{
  "cells": [
    {
      "attachments": {},
      "cell_type": "markdown",
      "metadata": {
        "id": "KJqp9AANOCtf"
      },
      "source": [
        "<img src=\"https://raw.githubusercontent.com/andre-marcos-perez/ebac-course-utils/main/media/logo/newebac_logo_black_half.png\" alt=\"ebac-logo\">\n",
        "\n",
        "---\n",
        "\n",
        "# **Módulo** | Python: Estruturas de Dados\n",
        "Caderno de **Exercícios**<br> \n",
        "Professor [André Perez](https://www.linkedin.com/in/andremarcosperez/)\n",
        "\n",
        "---\n",
        "Respondido as 20:38:49 PM - 03/05/2023\n",
        "\n",
        "---"
      ]
    },
    {
      "cell_type": "markdown",
      "metadata": {
        "id": "d9jDtUbDOE1-"
      },
      "source": [
        "# **Tópicos**\n",
        "\n",
        "<ol type=\"1\">\n",
        "  <li>Listas;</li>\n",
        "  <li>Conjuntos;</li>\n",
        "  <li>Dicionários.</li>\n",
        "</ol>"
      ]
    },
    {
      "cell_type": "markdown",
      "metadata": {
        "id": "SmoHgt-lwkpD"
      },
      "source": [
        "---"
      ]
    },
    {
      "cell_type": "markdown",
      "metadata": {
        "id": "GABI6OW8OfQ2"
      },
      "source": [
        "# **Exercícios**"
      ]
    },
    {
      "cell_type": "markdown",
      "metadata": {
        "id": "muD1vxozykSC"
      },
      "source": [
        "## 1\\. Listas"
      ]
    },
    {
      "cell_type": "markdown",
      "metadata": {
        "id": "ahrFfCuBxJKs"
      },
      "source": [
        "Criei uma lista chamada `filmes` com o nome dos 10 primeiros filmes mais bem avaliados no site no [IMDB](https://www.imdb.com/chart/top/). Imprima o resultado."
      ]
    },
    {
      "cell_type": "code",
      "execution_count": null,
      "metadata": {
        "id": "OgL6Hv3bzOHI"
      },
      "outputs": [],
      "source": [
        "filmes = ['Um sonho de liberdade',\n",
        "    'O poderoso chefão',\n",
        "    'Batman: O cavaleiro das trevas',\n",
        "    'O podereso chefção 2',\n",
        "    '12 homens e uma sentença',\n",
        "    'A lisda de Schindle',\n",
        "    'O senhor dos anéis: O retorno do rei',\n",
        "    'Pulp Fiction: Tempo de violência',\n",
        "    'O senhor dos anéis: A sociedade do anel',\n",
        "    'Três homens em conflito'\n",
        "]\n",
        "print(filmes)"
      ]
    },
    {
      "cell_type": "markdown",
      "metadata": {
        "id": "KI9zQRT2xa7m"
      },
      "source": [
        "Simule a movimentação do *ranking*. Utilize os métodos `insert` e `pop` para trocar a posição do primeiro e do segundo filme da lista. Imprima o resultado.\n",
        "\n"
      ]
    },
    {
      "cell_type": "code",
      "execution_count": null,
      "metadata": {
        "id": "zX3mA3_GzrXH"
      },
      "outputs": [],
      "source": [
        "filmes.insert(2, filmes[0])\n",
        "filmes.pop(0)\n",
        "print(filmes)"
      ]
    },
    {
      "cell_type": "markdown",
      "metadata": {
        "id": "zMN1Q3jdwoJm"
      },
      "source": [
        "---"
      ]
    },
    {
      "cell_type": "markdown",
      "metadata": {
        "id": "lxa5L6uF0ZJE"
      },
      "source": [
        "## 2\\. Conjuntos"
      ]
    },
    {
      "cell_type": "markdown",
      "metadata": {
        "id": "9JahS2Kj0d5u"
      },
      "source": [
        "Aconteceu um erro no seu *ranking*. Simule a duplicação dos três últimos filmes da lista. Imprima o resultado."
      ]
    },
    {
      "cell_type": "code",
      "execution_count": null,
      "metadata": {
        "id": "BnjnLBNC6PGe"
      },
      "outputs": [],
      "source": [
        "filmes = ['Um sonho de liberdade',\n",
        "    'O poderoso chefão',\n",
        "    'Batman: O cavaleiro das trevas',\n",
        "    'O podereso chefção 2',\n",
        "    '12 homens e uma sentença',\n",
        "    'A lisda de Schindle',\n",
        "    'O senhor dos anéis: O retorno do rei',\n",
        "    'Pulp Fiction: Tempo de violência',\n",
        "    'Pulp Fiction: Tempo de violência',\n",
        "    'O senhor dos anéis: A sociedade do anel',\n",
        "    'O senhor dos anéis: A sociedade do anel',\n",
        "    'Três homens em conflito',\n",
        "    'Três homens em conflito'\n",
        "]"
      ]
    },
    {
      "cell_type": "markdown",
      "metadata": {
        "id": "suxTfCJB6ZiX"
      },
      "source": [
        "Utiliza a conversão `set` e `list` para remover os valores duplicados. Imprima o resultado. "
      ]
    },
    {
      "cell_type": "code",
      "execution_count": null,
      "metadata": {
        "id": "ZvUGN-0n6joM"
      },
      "outputs": [],
      "source": [
        "filmes = list(set(filmes))\n",
        "print(filmes)"
      ]
    },
    {
      "cell_type": "markdown",
      "metadata": {
        "id": "ShkK35eQ6pAM"
      },
      "source": [
        "---"
      ]
    },
    {
      "cell_type": "markdown",
      "metadata": {
        "id": "EL_FzmxL6rTv"
      },
      "source": [
        "## 3\\. Dicionários"
      ]
    },
    {
      "cell_type": "markdown",
      "metadata": {
        "id": "i8l0gFqRCpfT"
      },
      "source": [
        "Repita os exercícios da parte 1 (listas). Os elementos da lista `filmes` devem ser dicionários no seguinte formato: `{'nome': <nome-do-filme>, 'ano': <ano do filme>}, 'sinopse': <sinopse do filme>}`. "
      ]
    },
    {
      "cell_type": "code",
      "execution_count": null,
      "metadata": {
        "id": "tu6MSFwGDnHv"
      },
      "outputs": [],
      "source": [
        "filmes = [\n",
        "    {'Nome':'Um sonho de liberdade', 'ano':1994, 'sinopse':'Dois homens presos...'},\n",
        "    {'Nome':'O poderoso chefão', 'ano':1972, 'sinopse':'O patriarca idoso de...'},\n",
        "    {'Nome':'Batman: O cavaleiro das trevas', 'ano':2008, 'sinopse':'Quando a ameaça...'},\n",
        "    {'Nome':'O podereso chefção 2', 'ano':1974, 'sinopse':'Em 1950, Micheal...'},\n",
        "    {'Nome':'12 homens e uma sentença', 'ano':1957, 'sinopse':'O julgamentode um...'},\n",
        "    {'Nome':'A lisda de Schindle', 'ano':1993, 'sinopse':'Na Polônia ocupada pelos...'},\n",
        "    {'Nome':'O senhor dos anéis: O retorno do rei', 'ano':2003, 'sinopse':'Gandalf e Aragorm...'},\n",
        "    {'Nome':'Pulp Fiction: Tempo de violência', 'ano':1994, 'sinopse':'As vidas de dois...'},\n",
        "    {'Nome':'O senhor dos anéis: A sociedade do anel', 'ano':2001, 'sinopse':'Um manso hobbit...'},\n",
        "    {'Nome':'Três homens em conflito', 'ano':1966, 'sinopse':'Um impostor se junta com...'}\n",
        "]\n",
        "for filme in filmes:\n",
        "    print(filme)\n"
      ]
    },
    {
      "cell_type": "code",
      "execution_count": null,
      "metadata": {},
      "outputs": [],
      "source": [
        "filmes.insert(2, filmes[0])\n",
        "filmes.pop(0)\n",
        "filme = []\n",
        "for posisao in range(len(filmes)):\n",
        "    for value in filmes[posisao].values():\n",
        "        filme.append(value)\n",
        "    print(f'{posisao + 1}° lugar - {filme[0]} de {filme[1]}, sobre {filme[2]} ')\n",
        "    filme.clear()"
      ]
    }
  ],
  "metadata": {
    "colab": {
      "collapsed_sections": [],
      "name": "module_2_exercise.ipynb",
      "provenance": [],
      "toc_visible": true
    },
    "kernelspec": {
      "display_name": "Python 3",
      "name": "python3"
    },
    "language_info": {
      "codemirror_mode": {
        "name": "ipython",
        "version": 3
      },
      "file_extension": ".py",
      "mimetype": "text/x-python",
      "name": "python",
      "nbconvert_exporter": "python",
      "pygments_lexer": "ipython3",
      "version": "3.10.8"
    }
  },
  "nbformat": 4,
  "nbformat_minor": 0
}
