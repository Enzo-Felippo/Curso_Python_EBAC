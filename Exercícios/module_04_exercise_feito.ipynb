{
 "cells": [
  {
   "attachments": {},
   "cell_type": "markdown",
   "metadata": {
    "id": "KJqp9AANOCtf"
   },
   "source": [
    "<img src=\"https://raw.githubusercontent.com/andre-marcos-perez/ebac-course-utils/main/media/logo/newebac_logo_black_half.png\" alt=\"ebac-logo\">\n",
    "\n",
    "---\n",
    "\n",
    "# **Módulo** | Python: Arquivos & Funções\n",
    "Caderno de **Exercícios**<br> \n",
    "Professor [André Perez](https://www.linkedin.com/in/andremarcosperez/)\n",
    "\n",
    "---\n",
    "Respondido as 16:51:12 PM - 08/05/2023\n",
    "\n",
    "---"
   ]
  },
  {
   "attachments": {},
   "cell_type": "markdown",
   "metadata": {
    "id": "d9jDtUbDOE1-"
   },
   "source": [
    "# **Tópicos**\n",
    "\n",
    "<ol type=\"1\">\n",
    "  <li>Leitura;</li>\n",
    "  <li>Escrita;</li>\n",
    "  <li>Funções;</li>\n",
    "  <li>Escopo.</li>\n",
    "</ol>"
   ]
  },
  {
   "attachments": {},
   "cell_type": "markdown",
   "metadata": {
    "id": "SmoHgt-lwkpD"
   },
   "source": [
    "---"
   ]
  },
  {
   "attachments": {},
   "cell_type": "markdown",
   "metadata": {
    "id": "GABI6OW8OfQ2"
   },
   "source": [
    "# **Exercícios**"
   ]
  },
  {
   "attachments": {},
   "cell_type": "markdown",
   "metadata": {
    "id": "muD1vxozykSC"
   },
   "source": [
    "## 0\\. Preparação do ambiente"
   ]
  },
  {
   "attachments": {},
   "cell_type": "markdown",
   "metadata": {
    "id": "ahrFfCuBxJKs"
   },
   "source": [
    "Neste exercício vamos trabalhar com os arquivos de csv e texto definidos abaixo. Execute cada uma das células de código para escrever os arquivos na sua máquina virtual."
   ]
  },
  {
   "attachments": {},
   "cell_type": "markdown",
   "metadata": {
    "id": "u0uFuhRSq_hQ"
   },
   "source": [
    "* **carros.csv**: arquivo csv com informações sobre carros (venda, manutenção, portas, etc.)."
   ]
  },
  {
   "cell_type": "code",
   "execution_count": 1,
   "metadata": {
    "id": "daMf-xaXqKs2"
   },
   "outputs": [
    {
     "name": "stdout",
     "output_type": "stream",
     "text": [
      "Writing carros_04.csv\n"
     ]
    }
   ],
   "source": [
    "%%writefile carros_04.csv\n",
    "id,valor_venda,valor_manutencao,portas,pessoas,porta_malas\n",
    "1,vhigh,med,2,2,small\n",
    "2,med,vhigh,2,2,small\n",
    "3,low,vhigh,2,2,small\n",
    "4,low,high,2,2,small\n",
    "5,low,high,2,2,small\n",
    "6,low,high,4,4,big\n",
    "7,low,high,4,4,big\n",
    "8,low,med,2,2,small\n",
    "9,low,med,2,2,small\n",
    "10,low,med,2,2,small\n",
    "11,low,med,4,4,big\n",
    "12,low,low,2,2,small\n",
    "13,low,low,4,4,small\n",
    "14,low,low,4,4,med"
   ]
  },
  {
   "attachments": {},
   "cell_type": "markdown",
   "metadata": {
    "id": "X0Z2PhbCrTz1"
   },
   "source": [
    "* **musica.txt**: arquivo texto com a letra da música Roda Viva do Chico Buarque."
   ]
  },
  {
   "cell_type": "code",
   "execution_count": 2,
   "metadata": {
    "id": "m7Ge2rggrU73"
   },
   "outputs": [
    {
     "name": "stdout",
     "output_type": "stream",
     "text": [
      "Writing musica_04.txt\n"
     ]
    }
   ],
   "source": [
    "%%writefile musica_04.txt\n",
    "Roda Viva\n",
    "Chico Buarque\n",
    "\n",
    "Tem dias que a gente se sente\n",
    "Como quem partiu ou morreu\n",
    "A gente estancou de repente\n",
    "Ou foi o mundo então que cresceu\n",
    "A gente quer ter voz ativa\n",
    "No nosso destino mandar\n",
    "Mas eis que chega a roda viva\n",
    "E carrega o destino pra lá\n",
    "\n",
    "Roda mundo, roda-gigante\n",
    "Roda moinho, roda pião\n",
    "\n",
    "O tempo rodou num instante\n",
    "Nas voltas do meu coração\n",
    "A gente vai contra a corrente\n",
    "Até não poder resistir\n",
    "Na volta do barco é que sente\n",
    "O quanto deixou de cumprir\n",
    "Faz tempo que a gente cultiva\n",
    "A mais linda roseira que há\n",
    "Mas eis que chega a roda viva\n",
    "E carrega a roseira pra lá\n",
    "\n",
    "Roda mundo, roda-gigante\n",
    "Roda moinho, roda pião"
   ]
  },
  {
   "attachments": {},
   "cell_type": "markdown",
   "metadata": {
    "id": "zMN1Q3jdwoJm"
   },
   "source": [
    "---"
   ]
  },
  {
   "attachments": {},
   "cell_type": "markdown",
   "metadata": {},
   "source": [
    "## 1. Extração de coluna de arquivo csv "
   ]
  },
  {
   "attachments": {},
   "cell_type": "markdown",
   "metadata": {},
   "source": [
    "1.1. Extraia os valores `valor_venda` e armazena em uma lista."
   ]
  },
  {
   "cell_type": "code",
   "execution_count": 116,
   "metadata": {},
   "outputs": [
    {
     "name": "stdout",
     "output_type": "stream",
     "text": [
      "['vhigh', 'med', 'low', 'low', 'low', 'low', 'low', 'low', 'low', 'low', 'low', 'low', 'low', 'low']\n"
     ]
    }
   ],
   "source": [
    "valor_venda = []\n",
    "\n",
    "with open(file='./carros_04.csv', mode='r', encoding='utf8') as arquivo:\n",
    "    linha = arquivo.readline() # lê o cabeçalho\n",
    "    linha = arquivo.readline() # lê a primeira linha\n",
    "    while linha:\n",
    "        linha_separada = linha.split(',') # quebra a string nas virgulas e salva os resultados em uma lista\n",
    "        venda = linha_separada[1] # seleciona o segundo elemento da lista\n",
    "        valor_venda.append(venda) # salva o valor na lista de valor_venda\n",
    "        linha = arquivo.readline() # lê uma nova linha, se a linha não existir, salva o valor None\n",
    "\n",
    "print(valor_venda)"
   ]
  },
  {
   "attachments": {},
   "cell_type": "markdown",
   "metadata": {},
   "source": [
    "1.2 Complete a função abaixo para extrair uma coluna, do arquivo csv em uma lista.\n"
   ]
  },
  {
   "cell_type": "code",
   "execution_count": 142,
   "metadata": {},
   "outputs": [],
   "source": [
    "def extrai_coluna_csv(nome_arquivo: str, indice_coluna: int):\n",
    "\n",
    "  coluna = []\n",
    "  try:\n",
    "    with open(file=nome_arquivo, mode='r', encoding='utf8') as aqv:\n",
    "      linha = aqv.readline()\n",
    "      linha = aqv.readline()\n",
    "      while linha:\n",
    "        linha_separada = linha.split(',')\n",
    "        try:\n",
    "          coluna_separada = linha_separada[indice_coluna]\n",
    "        except:\n",
    "          # Caso a pessoa pessa um numero maior do que as colunas existentes\n",
    "          coluna_separada = linha_separada[-1]\n",
    "        coluna.append(coluna_separada)\n",
    "        linha = aqv.readline()\n",
    "\n",
    "    return coluna\n",
    "  except:\n",
    "    erro = f'O arquivo {nome_arquivo} não existe'\n",
    "    return erro"
   ]
  },
  {
   "attachments": {},
   "cell_type": "markdown",
   "metadata": {},
   "source": [
    "Você pode testar a função com os códigos abaixo."
   ]
  },
  {
   "cell_type": "code",
   "execution_count": 144,
   "metadata": {},
   "outputs": [
    {
     "name": "stdout",
     "output_type": "stream",
     "text": [
      "['med', 'vhigh', 'vhigh', 'high', 'high', 'high', 'high', 'med', 'med', 'med', 'med', 'low', 'low', 'low']\n"
     ]
    }
   ],
   "source": [
    "# extrair a coluna valor_manutencao\n",
    "valor_manutencao = extrai_coluna_csv(nome_arquivo='./carros_04.csv', indice_coluna=2)\n",
    "print(valor_manutencao) # deve retornar ['med', 'vhigh', 'vhigh', ...]"
   ]
  },
  {
   "cell_type": "code",
   "execution_count": 123,
   "metadata": {},
   "outputs": [
    {
     "name": "stdout",
     "output_type": "stream",
     "text": [
      "['small\\n', 'small\\n', 'small\\n', 'small\\n', 'small\\n', 'big\\n', 'big\\n', 'small\\n', 'small\\n', 'small\\n', 'big\\n', 'small\\n', 'small\\n', 'med\\n']\n"
     ]
    }
   ],
   "source": [
    "# extrair a coluna porta_malas\n",
    "porta_malas = extrai_coluna_csv(nome_arquivo='./carros_04.csv', indice_coluna=5)\n",
    "print(porta_malas) # deve retornar ['small', 'small', 'small', ...]"
   ]
  },
  {
   "attachments": {},
   "cell_type": "markdown",
   "metadata": {},
   "source": [
    "# Exercício bônus"
   ]
  },
  {
   "attachments": {},
   "cell_type": "markdown",
   "metadata": {
    "id": "U4S19ZvHsPcE"
   },
   "source": [
    "## 1\\. Funções para arquivo csv"
   ]
  },
  {
   "attachments": {},
   "cell_type": "markdown",
   "metadata": {
    "id": "Mcf3mkOrtHzK"
   },
   "source": [
    "Complete a função abaixo para extrair uma coluna do arquivo csv em uma lista. Os elementos devem ter o tipo de dado correto."
   ]
  },
  {
   "cell_type": "code",
   "execution_count": 38,
   "metadata": {},
   "outputs": [],
   "source": [
    "# Padrão versatil\n",
    "def extrai_coluna_csv(nome_arquivo: str, indice_coluna: int, tipo_dado: str):\n",
    "    coluna = []\n",
    "    try:\n",
    "        with open (file=nome_arquivo, mode='r', encoding='utf8') as aqv:\n",
    "            linha = aqv.readline()\n",
    "            linha = aqv.readline()\n",
    "            while linha:\n",
    "                linha_separada = linha.split(',')\n",
    "                try: \n",
    "                    coluna_separada = tipo_dado(linha_separada[indice_coluna])\n",
    "                except IndexError:\n",
    "                    erro = f'Coluna {indice_coluna} não existe'\n",
    "                    return  erro\n",
    "                except:\n",
    "                    erro = f'Coluna {indice_coluna} não pode ser convertida para {tipo_dado}'\n",
    "                    return  erro\n",
    "                coluna.append(coluna_separada)\n",
    "                linha = aqv.readline()\n",
    "        return coluna\n",
    "    except:\n",
    "        erro = f'O arquivo {nome_arquivo} não existe'\n",
    "        return erro\n",
    "    "
   ]
  },
  {
   "attachments": {},
   "cell_type": "markdown",
   "metadata": {
    "id": "qCbQF6jru_01"
   },
   "source": [
    "Você pode testar a função com os códigos abaixo."
   ]
  },
  {
   "cell_type": "code",
   "execution_count": 39,
   "metadata": {
    "id": "Rl-EYdySu90s"
   },
   "outputs": [
    {
     "name": "stdout",
     "output_type": "stream",
     "text": [
      "Coluna 10 não existe\n"
     ]
    }
   ],
   "source": [
    "# extrair a coluna valor_venda\n",
    "valor_venda = extrai_coluna_csv(nome_arquivo='./carros_04.csv', indice_coluna=1, tipo_dado=str)\n",
    "print(valor_venda) # deve retornar ['vhigh', 'med', 'low', ...]"
   ]
  },
  {
   "cell_type": "code",
   "execution_count": 58,
   "metadata": {
    "id": "hvD-zzwDwboD"
   },
   "outputs": [
    {
     "name": "stdout",
     "output_type": "stream",
     "text": [
      "[2, 2, 2, 2, 2, 4, 4, 2, 2, 2, 4, 2, 4, 4]\n"
     ]
    }
   ],
   "source": [
    "# extrair a coluna pessoas\n",
    "pessoas = extrai_coluna_csv(nome_arquivo='./carros_04.csv', indice_coluna=4, tipo_dado=int)\n",
    "print(pessoas) # deve retornar [2, 2, 2, ...]"
   ]
  },
  {
   "attachments": {},
   "cell_type": "markdown",
   "metadata": {},
   "source": [
    "Eu mudei de:\n",
    "\n",
    "    tipo_dado='str'/'int' \n",
    "para:\n",
    "\n",
    "    tipo_dado=str/int\n",
    "\n",
    "Assim não precisarei refazer o código se pedir outro tipo de dado"
   ]
  },
  {
   "attachments": {},
   "cell_type": "markdown",
   "metadata": {
    "id": "QTS5-sSbs4ie"
   },
   "source": [
    "---"
   ]
  },
  {
   "attachments": {},
   "cell_type": "markdown",
   "metadata": {
    "id": "sebqs6uztCH4"
   },
   "source": [
    "## 2\\. Funções para arquivo txt"
   ]
  },
  {
   "attachments": {},
   "cell_type": "markdown",
   "metadata": {
    "id": "IFVBGkNhzB3P"
   },
   "source": [
    "Complete a função abaixo para extrair uma as palavras de uma linha do arquivo txt em uma lista."
   ]
  },
  {
   "cell_type": "code",
   "execution_count": 4,
   "metadata": {
    "id": "ewrNqMtczWZJ"
   },
   "outputs": [],
   "source": [
    "def extrai_linha_txt(nome_arquivo: str, numero_linha: int):\n",
    "    palavras_linha = []\n",
    "    with open(file=nome_arquivo, mode='r', encoding='utf8') as txt:\n",
    "        for linha in range(numero_linha):\n",
    "            frase = txt.readline()\n",
    "        palavras_linha = frase.split(' ')\n",
    "    return palavras_linha\n"
   ]
  },
  {
   "cell_type": "code",
   "execution_count": 2,
   "metadata": {},
   "outputs": [],
   "source": [
    "#  Estava testando as opções, caso fose o cliente que desse o input\n",
    "def extrai_linha_txt(nome_arquivo: str, numero_linha: int):\n",
    "    palavras_linha = []\n",
    "    if numero_linha < 1:\n",
    "        numero_linha = 1\n",
    "    try:\n",
    "        with open(file=nome_arquivo, mode='r', encoding='utf8') as txt:\n",
    "            for linha in range(numero_linha):\n",
    "                linha_separada = txt.readline()\n",
    "\n",
    "                if not linha_separada:\n",
    "                    erro = f'Linha {numero_linha} não exste nesse arquivo'\n",
    "                    return erro\n",
    "\n",
    "            palavras_linha = linha_separada.split(' ')\n",
    "        return palavras_linha\n",
    "\n",
    "    except:\n",
    "        erro = f'O arquivo {nome_arquivo} não existe'\n",
    "        return erro"
   ]
  },
  {
   "attachments": {},
   "cell_type": "markdown",
   "metadata": {
    "id": "Qz2UwipIz0t2"
   },
   "source": [
    "Você pode testar a função com os códigos abaixo."
   ]
  },
  {
   "cell_type": "code",
   "execution_count": 5,
   "metadata": {
    "id": "_Wxp43qqz1V2"
   },
   "outputs": [
    {
     "name": "stdout",
     "output_type": "stream",
     "text": [
      "['Mas', 'eis', 'que', 'chega', 'a', 'roda', 'viva\\n']\n"
     ]
    }
   ],
   "source": [
    "linha10 = extrai_linha_txt(nome_arquivo='./musica_04.txt', numero_linha=10)\n",
    "print(linha10) # deve retornar ['Mas', 'eis', 'que', 'chega', 'a', 'roda', 'viva']"
   ]
  },
  {
   "attachments": {},
   "cell_type": "markdown",
   "metadata": {
    "id": "Fo9qTjietCH6"
   },
   "source": [
    "---"
   ]
  }
 ],
 "metadata": {
  "colab": {
   "authorship_tag": "ABX9TyOClt3xfm9K9bkLTnz9zgkf",
   "collapsed_sections": [],
   "name": "module_4_exercise.ipynb",
   "provenance": [],
   "toc_visible": true
  },
  "kernelspec": {
   "display_name": "Python 3 (ipykernel)",
   "language": "python",
   "name": "python3"
  },
  "language_info": {
   "codemirror_mode": {
    "name": "ipython",
    "version": 3
   },
   "file_extension": ".py",
   "mimetype": "text/x-python",
   "name": "python",
   "nbconvert_exporter": "python",
   "pygments_lexer": "ipython3",
   "version": "3.10.8"
  }
 },
 "nbformat": 4,
 "nbformat_minor": 1
}
